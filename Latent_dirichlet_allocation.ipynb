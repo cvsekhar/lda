{
 "cells": [
  {
   "cell_type": "markdown",
   "metadata": {},
   "source": [
    "## Step 0: Latent Dirichlet Allocation ##\n",
    "\n",
    "LDA is used to classify text in a document to a particular topic. It builds a topic per document model and words per topic model, modeled as Dirichlet distributions. \n",
    "\n",
    "* Each document is modeled as a multinomial distribution of topics and each topic is modeled as a multinomial distribution of words.\n",
    "* LDA assumes that the every chunk of text we feed into it will contain words that are somehow related. Therefore choosing the right corpus of data is crucial. \n",
    "* It also assumes documents are produced from a mixture of topics. Those topics then generate words based on their probability distribution. "
   ]
  },
  {
   "cell_type": "markdown",
   "metadata": {},
   "source": [
    "## Step 1: Load the dataset ##"
   ]
  },
  {
   "cell_type": "code",
   "execution_count": 2,
   "metadata": {},
   "outputs": [],
   "source": [
    "'''\n",
    "Load the dataset from the CSV and save it to 'data_text'\n",
    "'''\n",
    "import pandas as pd\n",
    "data = pd.read_csv(\"abcnews-date-text.csv\");\n",
    "# We only need the Headlines text column from the data\n",
    "data_text = data[['headline_text']];"
   ]
  },
  {
   "cell_type": "code",
   "execution_count": 3,
   "metadata": {},
   "outputs": [
    {
     "data": {
      "text/html": [
       "<div>\n",
       "<style>\n",
       "    .dataframe thead tr:only-child th {\n",
       "        text-align: right;\n",
       "    }\n",
       "\n",
       "    .dataframe thead th {\n",
       "        text-align: left;\n",
       "    }\n",
       "\n",
       "    .dataframe tbody tr th {\n",
       "        vertical-align: top;\n",
       "    }\n",
       "</style>\n",
       "<table border=\"1\" class=\"dataframe\">\n",
       "  <thead>\n",
       "    <tr style=\"text-align: right;\">\n",
       "      <th></th>\n",
       "      <th>headline_text</th>\n",
       "      <th>index</th>\n",
       "    </tr>\n",
       "  </thead>\n",
       "  <tbody>\n",
       "    <tr>\n",
       "      <th>0</th>\n",
       "      <td>aba decides against community broadcasting lic...</td>\n",
       "      <td>0</td>\n",
       "    </tr>\n",
       "    <tr>\n",
       "      <th>1</th>\n",
       "      <td>act fire witnesses must be aware of defamation</td>\n",
       "      <td>1</td>\n",
       "    </tr>\n",
       "    <tr>\n",
       "      <th>2</th>\n",
       "      <td>a g calls for infrastructure protection summit</td>\n",
       "      <td>2</td>\n",
       "    </tr>\n",
       "    <tr>\n",
       "      <th>3</th>\n",
       "      <td>air nz staff in aust strike for pay rise</td>\n",
       "      <td>3</td>\n",
       "    </tr>\n",
       "    <tr>\n",
       "      <th>4</th>\n",
       "      <td>air nz strike to affect australian travellers</td>\n",
       "      <td>4</td>\n",
       "    </tr>\n",
       "    <tr>\n",
       "      <th>5</th>\n",
       "      <td>ambitious olsson wins triple jump</td>\n",
       "      <td>5</td>\n",
       "    </tr>\n",
       "    <tr>\n",
       "      <th>6</th>\n",
       "      <td>antic delighted with record breaking barca</td>\n",
       "      <td>6</td>\n",
       "    </tr>\n",
       "    <tr>\n",
       "      <th>7</th>\n",
       "      <td>aussie qualifier stosur wastes four memphis match</td>\n",
       "      <td>7</td>\n",
       "    </tr>\n",
       "    <tr>\n",
       "      <th>8</th>\n",
       "      <td>aust addresses un security council over iraq</td>\n",
       "      <td>8</td>\n",
       "    </tr>\n",
       "    <tr>\n",
       "      <th>9</th>\n",
       "      <td>australia is locked into war timetable opp</td>\n",
       "      <td>9</td>\n",
       "    </tr>\n",
       "    <tr>\n",
       "      <th>10</th>\n",
       "      <td>australia to contribute 10 million in aid to iraq</td>\n",
       "      <td>10</td>\n",
       "    </tr>\n",
       "    <tr>\n",
       "      <th>11</th>\n",
       "      <td>barca take record as robson celebrates birthda...</td>\n",
       "      <td>11</td>\n",
       "    </tr>\n",
       "    <tr>\n",
       "      <th>12</th>\n",
       "      <td>bathhouse plans move ahead</td>\n",
       "      <td>12</td>\n",
       "    </tr>\n",
       "    <tr>\n",
       "      <th>13</th>\n",
       "      <td>big hopes for launceston cycling championship</td>\n",
       "      <td>13</td>\n",
       "    </tr>\n",
       "    <tr>\n",
       "      <th>14</th>\n",
       "      <td>big plan to boost paroo water supplies</td>\n",
       "      <td>14</td>\n",
       "    </tr>\n",
       "    <tr>\n",
       "      <th>15</th>\n",
       "      <td>blizzard buries united states in bills</td>\n",
       "      <td>15</td>\n",
       "    </tr>\n",
       "    <tr>\n",
       "      <th>16</th>\n",
       "      <td>brigadier dismisses reports troops harassed in</td>\n",
       "      <td>16</td>\n",
       "    </tr>\n",
       "    <tr>\n",
       "      <th>17</th>\n",
       "      <td>british combat troops arriving daily in kuwait</td>\n",
       "      <td>17</td>\n",
       "    </tr>\n",
       "    <tr>\n",
       "      <th>18</th>\n",
       "      <td>bryant leads lakers to double overtime win</td>\n",
       "      <td>18</td>\n",
       "    </tr>\n",
       "    <tr>\n",
       "      <th>19</th>\n",
       "      <td>bushfire victims urged to see centrelink</td>\n",
       "      <td>19</td>\n",
       "    </tr>\n",
       "    <tr>\n",
       "      <th>20</th>\n",
       "      <td>businesses should prepare for terrorist attacks</td>\n",
       "      <td>20</td>\n",
       "    </tr>\n",
       "    <tr>\n",
       "      <th>21</th>\n",
       "      <td>calleri avenges final defeat to eliminate massu</td>\n",
       "      <td>21</td>\n",
       "    </tr>\n",
       "    <tr>\n",
       "      <th>22</th>\n",
       "      <td>call for ethanol blend fuel to go ahead</td>\n",
       "      <td>22</td>\n",
       "    </tr>\n",
       "    <tr>\n",
       "      <th>23</th>\n",
       "      <td>carews freak goal leaves roma in ruins</td>\n",
       "      <td>23</td>\n",
       "    </tr>\n",
       "    <tr>\n",
       "      <th>24</th>\n",
       "      <td>cemeteries miss out on funds</td>\n",
       "      <td>24</td>\n",
       "    </tr>\n",
       "    <tr>\n",
       "      <th>25</th>\n",
       "      <td>code of conduct toughens organ donation regula...</td>\n",
       "      <td>25</td>\n",
       "    </tr>\n",
       "    <tr>\n",
       "      <th>26</th>\n",
       "      <td>commonwealth bank cuts fixed home loan rates</td>\n",
       "      <td>26</td>\n",
       "    </tr>\n",
       "    <tr>\n",
       "      <th>27</th>\n",
       "      <td>community urged to help homeless youth</td>\n",
       "      <td>27</td>\n",
       "    </tr>\n",
       "    <tr>\n",
       "      <th>28</th>\n",
       "      <td>council chief executive fails to secure position</td>\n",
       "      <td>28</td>\n",
       "    </tr>\n",
       "    <tr>\n",
       "      <th>29</th>\n",
       "      <td>councillor to contest wollongong as independent</td>\n",
       "      <td>29</td>\n",
       "    </tr>\n",
       "    <tr>\n",
       "      <th>...</th>\n",
       "      <td>...</td>\n",
       "      <td>...</td>\n",
       "    </tr>\n",
       "    <tr>\n",
       "      <th>1103635</th>\n",
       "      <td>nepal bans solo climbers from mount everest</td>\n",
       "      <td>1103635</td>\n",
       "    </tr>\n",
       "    <tr>\n",
       "      <th>1103636</th>\n",
       "      <td>new years eve 2018 celebrated around australia</td>\n",
       "      <td>1103636</td>\n",
       "    </tr>\n",
       "    <tr>\n",
       "      <th>1103637</th>\n",
       "      <td>new years eve australia prepares to bring in 2018</td>\n",
       "      <td>1103637</td>\n",
       "    </tr>\n",
       "    <tr>\n",
       "      <th>1103638</th>\n",
       "      <td>new years eve celebrations around the world</td>\n",
       "      <td>1103638</td>\n",
       "    </tr>\n",
       "    <tr>\n",
       "      <th>1103639</th>\n",
       "      <td>new years texting data load to surge as clock ...</td>\n",
       "      <td>1103639</td>\n",
       "    </tr>\n",
       "    <tr>\n",
       "      <th>1103640</th>\n",
       "      <td>north korea leader kim jong un watches concert</td>\n",
       "      <td>1103640</td>\n",
       "    </tr>\n",
       "    <tr>\n",
       "      <th>1103641</th>\n",
       "      <td>now its real tourists converge on sydney harbour</td>\n",
       "      <td>1103641</td>\n",
       "    </tr>\n",
       "    <tr>\n",
       "      <th>1103642</th>\n",
       "      <td>nye guide for sydney best venues public transp...</td>\n",
       "      <td>1103642</td>\n",
       "    </tr>\n",
       "    <tr>\n",
       "      <th>1103643</th>\n",
       "      <td>police confirm deaths of six people in seaplane</td>\n",
       "      <td>1103643</td>\n",
       "    </tr>\n",
       "    <tr>\n",
       "      <th>1103644</th>\n",
       "      <td>police officer brett forte; killed in a shooti...</td>\n",
       "      <td>1103644</td>\n",
       "    </tr>\n",
       "    <tr>\n",
       "      <th>1103645</th>\n",
       "      <td>p plate driver caught 100 kph over speed limit</td>\n",
       "      <td>1103645</td>\n",
       "    </tr>\n",
       "    <tr>\n",
       "      <th>1103646</th>\n",
       "      <td>protesters throw rocks at police in tehran</td>\n",
       "      <td>1103646</td>\n",
       "    </tr>\n",
       "    <tr>\n",
       "      <th>1103647</th>\n",
       "      <td>remembering australian lives lost in 2017</td>\n",
       "      <td>1103647</td>\n",
       "    </tr>\n",
       "    <tr>\n",
       "      <th>1103648</th>\n",
       "      <td>remount horsemanship helping veterans through ...</td>\n",
       "      <td>1103648</td>\n",
       "    </tr>\n",
       "    <tr>\n",
       "      <th>1103649</th>\n",
       "      <td>roger federer rivals battling injury ahead aus...</td>\n",
       "      <td>1103649</td>\n",
       "    </tr>\n",
       "    <tr>\n",
       "      <th>1103650</th>\n",
       "      <td>russian tankers fuelled north korea via transf...</td>\n",
       "      <td>1103650</td>\n",
       "    </tr>\n",
       "    <tr>\n",
       "      <th>1103651</th>\n",
       "      <td>sa transport department defends major intersec...</td>\n",
       "      <td>1103651</td>\n",
       "    </tr>\n",
       "    <tr>\n",
       "      <th>1103652</th>\n",
       "      <td>sea plane has crashed into the hawkesbury rive...</td>\n",
       "      <td>1103652</td>\n",
       "    </tr>\n",
       "    <tr>\n",
       "      <th>1103653</th>\n",
       "      <td>search for survivors in hawkesbury sea plane c...</td>\n",
       "      <td>1103653</td>\n",
       "    </tr>\n",
       "    <tr>\n",
       "      <th>1103654</th>\n",
       "      <td>second sexual assault reported at falls festiv...</td>\n",
       "      <td>1103654</td>\n",
       "    </tr>\n",
       "    <tr>\n",
       "      <th>1103655</th>\n",
       "      <td>severe storms forecast for nye in south east q...</td>\n",
       "      <td>1103655</td>\n",
       "    </tr>\n",
       "    <tr>\n",
       "      <th>1103656</th>\n",
       "      <td>snake catcher pleads for people not to kill re...</td>\n",
       "      <td>1103656</td>\n",
       "    </tr>\n",
       "    <tr>\n",
       "      <th>1103657</th>\n",
       "      <td>south australia prepares for party to welcome ...</td>\n",
       "      <td>1103657</td>\n",
       "    </tr>\n",
       "    <tr>\n",
       "      <th>1103658</th>\n",
       "      <td>strikers cool off the heat with big win in ade...</td>\n",
       "      <td>1103658</td>\n",
       "    </tr>\n",
       "    <tr>\n",
       "      <th>1103659</th>\n",
       "      <td>stunning images from the sydney to hobart yacht</td>\n",
       "      <td>1103659</td>\n",
       "    </tr>\n",
       "    <tr>\n",
       "      <th>1103660</th>\n",
       "      <td>the ashes smiths warners near miss liven up bo...</td>\n",
       "      <td>1103660</td>\n",
       "    </tr>\n",
       "    <tr>\n",
       "      <th>1103661</th>\n",
       "      <td>timelapse: brisbanes new year fireworks</td>\n",
       "      <td>1103661</td>\n",
       "    </tr>\n",
       "    <tr>\n",
       "      <th>1103662</th>\n",
       "      <td>what 2017 meant to the kids of australia</td>\n",
       "      <td>1103662</td>\n",
       "    </tr>\n",
       "    <tr>\n",
       "      <th>1103663</th>\n",
       "      <td>what the papodopoulos meeting may mean for ausus</td>\n",
       "      <td>1103663</td>\n",
       "    </tr>\n",
       "    <tr>\n",
       "      <th>1103664</th>\n",
       "      <td>who is george papadopoulos the former trump ca...</td>\n",
       "      <td>1103664</td>\n",
       "    </tr>\n",
       "  </tbody>\n",
       "</table>\n",
       "<p>1103665 rows × 2 columns</p>\n",
       "</div>"
      ],
      "text/plain": [
       "                                             headline_text    index\n",
       "0        aba decides against community broadcasting lic...        0\n",
       "1           act fire witnesses must be aware of defamation        1\n",
       "2           a g calls for infrastructure protection summit        2\n",
       "3                 air nz staff in aust strike for pay rise        3\n",
       "4            air nz strike to affect australian travellers        4\n",
       "5                        ambitious olsson wins triple jump        5\n",
       "6               antic delighted with record breaking barca        6\n",
       "7        aussie qualifier stosur wastes four memphis match        7\n",
       "8             aust addresses un security council over iraq        8\n",
       "9               australia is locked into war timetable opp        9\n",
       "10       australia to contribute 10 million in aid to iraq       10\n",
       "11       barca take record as robson celebrates birthda...       11\n",
       "12                              bathhouse plans move ahead       12\n",
       "13           big hopes for launceston cycling championship       13\n",
       "14                  big plan to boost paroo water supplies       14\n",
       "15                  blizzard buries united states in bills       15\n",
       "16          brigadier dismisses reports troops harassed in       16\n",
       "17          british combat troops arriving daily in kuwait       17\n",
       "18              bryant leads lakers to double overtime win       18\n",
       "19                bushfire victims urged to see centrelink       19\n",
       "20         businesses should prepare for terrorist attacks       20\n",
       "21         calleri avenges final defeat to eliminate massu       21\n",
       "22                 call for ethanol blend fuel to go ahead       22\n",
       "23                  carews freak goal leaves roma in ruins       23\n",
       "24                            cemeteries miss out on funds       24\n",
       "25       code of conduct toughens organ donation regula...       25\n",
       "26            commonwealth bank cuts fixed home loan rates       26\n",
       "27                  community urged to help homeless youth       27\n",
       "28        council chief executive fails to secure position       28\n",
       "29         councillor to contest wollongong as independent       29\n",
       "...                                                    ...      ...\n",
       "1103635        nepal bans solo climbers from mount everest  1103635\n",
       "1103636     new years eve 2018 celebrated around australia  1103636\n",
       "1103637  new years eve australia prepares to bring in 2018  1103637\n",
       "1103638        new years eve celebrations around the world  1103638\n",
       "1103639  new years texting data load to surge as clock ...  1103639\n",
       "1103640     north korea leader kim jong un watches concert  1103640\n",
       "1103641   now its real tourists converge on sydney harbour  1103641\n",
       "1103642  nye guide for sydney best venues public transp...  1103642\n",
       "1103643    police confirm deaths of six people in seaplane  1103643\n",
       "1103644  police officer brett forte; killed in a shooti...  1103644\n",
       "1103645     p plate driver caught 100 kph over speed limit  1103645\n",
       "1103646         protesters throw rocks at police in tehran  1103646\n",
       "1103647          remembering australian lives lost in 2017  1103647\n",
       "1103648  remount horsemanship helping veterans through ...  1103648\n",
       "1103649  roger federer rivals battling injury ahead aus...  1103649\n",
       "1103650  russian tankers fuelled north korea via transf...  1103650\n",
       "1103651  sa transport department defends major intersec...  1103651\n",
       "1103652  sea plane has crashed into the hawkesbury rive...  1103652\n",
       "1103653  search for survivors in hawkesbury sea plane c...  1103653\n",
       "1103654  second sexual assault reported at falls festiv...  1103654\n",
       "1103655  severe storms forecast for nye in south east q...  1103655\n",
       "1103656  snake catcher pleads for people not to kill re...  1103656\n",
       "1103657  south australia prepares for party to welcome ...  1103657\n",
       "1103658  strikers cool off the heat with big win in ade...  1103658\n",
       "1103659    stunning images from the sydney to hobart yacht  1103659\n",
       "1103660  the ashes smiths warners near miss liven up bo...  1103660\n",
       "1103661            timelapse: brisbanes new year fireworks  1103661\n",
       "1103662           what 2017 meant to the kids of australia  1103662\n",
       "1103663   what the papodopoulos meeting may mean for ausus  1103663\n",
       "1103664  who is george papadopoulos the former trump ca...  1103664\n",
       "\n",
       "[1103665 rows x 2 columns]"
      ]
     },
     "execution_count": 3,
     "metadata": {},
     "output_type": "execute_result"
    }
   ],
   "source": [
    "'''\n",
    "Add an index column to the dataset and save the dataset as 'documents'\n",
    "'''\n",
    "data_text['index'] = data_text.index\n",
    "documents = data_text\n",
    "documents"
   ]
  },
  {
   "cell_type": "code",
   "execution_count": 4,
   "metadata": {},
   "outputs": [
    {
     "name": "stdout",
     "output_type": "stream",
     "text": [
      "1103665\n"
     ]
    }
   ],
   "source": [
    "'''\n",
    "Get the total number of documents\n",
    "'''\n",
    "print(len(documents))"
   ]
  },
  {
   "cell_type": "code",
   "execution_count": 5,
   "metadata": {},
   "outputs": [
    {
     "name": "stdout",
     "output_type": "stream",
     "text": [
      "\n",
      "**Printing out a sample document:**\n",
      "                    headline_text  index\n",
      "4310  rain helps dampen bushfires   4310\n"
     ]
    }
   ],
   "source": [
    "'''\n",
    "Preview a document and assign the index value to 'document_num'\n",
    "'''\n",
    "document_num = 4310\n",
    "print(\"\\n**Printing out a sample document:**\")\n",
    "print(documents[documents['index'] == document_num])"
   ]
  },
  {
   "cell_type": "code",
   "execution_count": 6,
   "metadata": {},
   "outputs": [
    {
     "name": "stdout",
     "output_type": "stream",
     "text": [
      "rain helps dampen bushfires\n"
     ]
    }
   ],
   "source": [
    "'''\n",
    "Seperate the value of the headline from the document selected with 'document_num'\n",
    "'''\n",
    "# TODO\n",
    "print(documents[documents['index'] == document_num].values[0][0])"
   ]
  },
  {
   "cell_type": "markdown",
   "metadata": {},
   "source": [
    "** Looks like this document will come under `Politics`. **"
   ]
  },
  {
   "cell_type": "markdown",
   "metadata": {},
   "source": [
    "## Step 2: Data Preprocessing ##\n",
    "\n",
    "We will perform the following steps:\n",
    "\n",
    "* **Tokenization**: Split the text into sentences and the sentences into words. Lowercase the words and remove punctuation.\n",
    "* Words that have fewer than 3 characters are removed.\n",
    "* All **stopwords** are removed.\n",
    "* Words are **lemmatized** - words in third person are changed to first person and verbs in past and future tenses are changed into present.\n",
    "* Words are **stemmed** - words are reduced to their root form.\n"
   ]
  },
  {
   "cell_type": "code",
   "execution_count": 7,
   "metadata": {},
   "outputs": [],
   "source": [
    "'''\n",
    "Loading Gensim and nltk libraries\n",
    "'''\n",
    "# pip install gensim\n",
    "import gensim\n",
    "from gensim.utils import simple_preprocess\n",
    "from gensim.parsing.preprocessing import STOPWORDS\n",
    "from nltk.stem import WordNetLemmatizer, SnowballStemmer\n",
    "from nltk.stem.porter import *\n",
    "import numpy as np\n",
    "np.random.seed(400)"
   ]
  },
  {
   "cell_type": "code",
   "execution_count": 8,
   "metadata": {},
   "outputs": [
    {
     "name": "stdout",
     "output_type": "stream",
     "text": [
      "[nltk_data] Downloading package wordnet to /root/nltk_data...\n",
      "[nltk_data]   Unzipping corpora/wordnet.zip.\n"
     ]
    },
    {
     "data": {
      "text/plain": [
       "True"
      ]
     },
     "execution_count": 8,
     "metadata": {},
     "output_type": "execute_result"
    }
   ],
   "source": [
    "import nltk\n",
    "nltk.download('wordnet')"
   ]
  },
  {
   "cell_type": "code",
   "execution_count": 9,
   "metadata": {},
   "outputs": [
    {
     "name": "stdout",
     "output_type": "stream",
     "text": [
      "go\n"
     ]
    }
   ],
   "source": [
    "'''\n",
    "Lemmatizing example for a verb, noun.\n",
    "'''\n",
    "print(WordNetLemmatizer().lemmatize('went', pos = 'v')) # past tense to present tense"
   ]
  },
  {
   "cell_type": "code",
   "execution_count": 10,
   "metadata": {},
   "outputs": [
    {
     "name": "stdout",
     "output_type": "stream",
     "text": [
      "caress fli die mule deni die agre own humbl size meet state siez item sensat tradit refer colon plot\n"
     ]
    }
   ],
   "source": [
    "'''\n",
    "Stemming example\n",
    "'''\n",
    "stemmer = SnowballStemmer(\"english\")\n",
    "plurals = ['caresses', 'flies', 'dies', 'mules', 'denied','died', 'agreed', 'owned', \n",
    "           'humbled', 'sized','meeting', 'stating', 'siezing', 'itemization','sensational', \n",
    "           'traditional', 'reference', 'colonizer','plotted']\n",
    "singles = [stemmer.stem(plural) for plural in plurals]\n",
    "print(' '.join(singles))"
   ]
  },
  {
   "cell_type": "code",
   "execution_count": 11,
   "metadata": {},
   "outputs": [],
   "source": [
    "'''\n",
    "Write a function to perform the pre processing steps on the entire dataset\n",
    "'''\n",
    "def lemmatize_stemming(text):\n",
    "    return stemmer.stem(WordNetLemmatizer().lemmatize(text, pos='v'))\n",
    "\n",
    "# Tokenize and lemmatize\n",
    "def preprocess(text):\n",
    "    result = [lemmatize_stemming(word) for word in simple_preprocess(text) if word not in STOPWORDS and len(word) > 3]\n",
    "    return result"
   ]
  },
  {
   "cell_type": "code",
   "execution_count": 12,
   "metadata": {},
   "outputs": [
    {
     "name": "stdout",
     "output_type": "stream",
     "text": [
      "Original document: \n",
      "['rain', 'helps', 'dampen', 'bushfires']\n",
      "\n",
      "\n",
      "Tokenized and lemmatized document: \n",
      "['rain', 'help', 'dampen', 'bushfir']\n"
     ]
    }
   ],
   "source": [
    "'''\n",
    "Preview a document after preprocessing\n",
    "'''\n",
    "\n",
    "doc_sample = documents[documents['index'] == document_num].values[0][0]\n",
    "\n",
    "print(\"Original document: \")\n",
    "words = []\n",
    "for word in doc_sample.split(' '):\n",
    "    words.append(word)\n",
    "print(words)\n",
    "print(\"\\n\\nTokenized and lemmatized document: \")\n",
    "print(preprocess(doc_sample))"
   ]
  },
  {
   "cell_type": "code",
   "execution_count": 14,
   "metadata": {},
   "outputs": [],
   "source": [
    "'''\n",
    "Save the values of the headlines into a variable 'training_headlines' from 'documents'\n",
    "'''\n",
    "training_headlines = documents['headline_text']"
   ]
  },
  {
   "cell_type": "code",
   "execution_count": 15,
   "metadata": {},
   "outputs": [
    {
     "data": {
      "text/plain": [
       "0          aba decides against community broadcasting lic...\n",
       "1             act fire witnesses must be aware of defamation\n",
       "2             a g calls for infrastructure protection summit\n",
       "3                   air nz staff in aust strike for pay rise\n",
       "4              air nz strike to affect australian travellers\n",
       "5                          ambitious olsson wins triple jump\n",
       "6                 antic delighted with record breaking barca\n",
       "7          aussie qualifier stosur wastes four memphis match\n",
       "8               aust addresses un security council over iraq\n",
       "9                 australia is locked into war timetable opp\n",
       "10         australia to contribute 10 million in aid to iraq\n",
       "11         barca take record as robson celebrates birthda...\n",
       "12                                bathhouse plans move ahead\n",
       "13             big hopes for launceston cycling championship\n",
       "14                    big plan to boost paroo water supplies\n",
       "15                    blizzard buries united states in bills\n",
       "16            brigadier dismisses reports troops harassed in\n",
       "17            british combat troops arriving daily in kuwait\n",
       "18                bryant leads lakers to double overtime win\n",
       "19                  bushfire victims urged to see centrelink\n",
       "20           businesses should prepare for terrorist attacks\n",
       "21           calleri avenges final defeat to eliminate massu\n",
       "22                   call for ethanol blend fuel to go ahead\n",
       "23                    carews freak goal leaves roma in ruins\n",
       "24                              cemeteries miss out on funds\n",
       "25         code of conduct toughens organ donation regula...\n",
       "26              commonwealth bank cuts fixed home loan rates\n",
       "27                    community urged to help homeless youth\n",
       "28          council chief executive fails to secure position\n",
       "29           councillor to contest wollongong as independent\n",
       "                                 ...                        \n",
       "1103635          nepal bans solo climbers from mount everest\n",
       "1103636       new years eve 2018 celebrated around australia\n",
       "1103637    new years eve australia prepares to bring in 2018\n",
       "1103638          new years eve celebrations around the world\n",
       "1103639    new years texting data load to surge as clock ...\n",
       "1103640       north korea leader kim jong un watches concert\n",
       "1103641     now its real tourists converge on sydney harbour\n",
       "1103642    nye guide for sydney best venues public transp...\n",
       "1103643      police confirm deaths of six people in seaplane\n",
       "1103644    police officer brett forte; killed in a shooti...\n",
       "1103645       p plate driver caught 100 kph over speed limit\n",
       "1103646           protesters throw rocks at police in tehran\n",
       "1103647            remembering australian lives lost in 2017\n",
       "1103648    remount horsemanship helping veterans through ...\n",
       "1103649    roger federer rivals battling injury ahead aus...\n",
       "1103650    russian tankers fuelled north korea via transf...\n",
       "1103651    sa transport department defends major intersec...\n",
       "1103652    sea plane has crashed into the hawkesbury rive...\n",
       "1103653    search for survivors in hawkesbury sea plane c...\n",
       "1103654    second sexual assault reported at falls festiv...\n",
       "1103655    severe storms forecast for nye in south east q...\n",
       "1103656    snake catcher pleads for people not to kill re...\n",
       "1103657    south australia prepares for party to welcome ...\n",
       "1103658    strikers cool off the heat with big win in ade...\n",
       "1103659      stunning images from the sydney to hobart yacht\n",
       "1103660    the ashes smiths warners near miss liven up bo...\n",
       "1103661              timelapse: brisbanes new year fireworks\n",
       "1103662             what 2017 meant to the kids of australia\n",
       "1103663     what the papodopoulos meeting may mean for ausus\n",
       "1103664    who is george papadopoulos the former trump ca...\n",
       "Name: headline_text, Length: 1103665, dtype: object"
      ]
     },
     "execution_count": 15,
     "metadata": {},
     "output_type": "execute_result"
    }
   ],
   "source": [
    "'''\n",
    "Preview 'training_headlines'\n",
    "'''\n",
    "training_headlines"
   ]
  },
  {
   "cell_type": "code",
   "execution_count": 16,
   "metadata": {},
   "outputs": [],
   "source": [
    "'''\n",
    "Perform preprocessing on entire dataset using the function defined earlier and save it to 'processed_docs'\n",
    "'''\n",
    "processed_docs = training_headlines.apply(lambda doc: preprocess(doc))"
   ]
  },
  {
   "cell_type": "code",
   "execution_count": 17,
   "metadata": {},
   "outputs": [
    {
     "data": {
      "text/plain": [
       "0                      [decid, communiti, broadcast, licenc]\n",
       "1                                         [wit, awar, defam]\n",
       "2                     [call, infrastructur, protect, summit]\n",
       "3                                [staff, aust, strike, rise]\n",
       "4                       [strike, affect, australian, travel]\n",
       "5                         [ambiti, olsson, win, tripl, jump]\n",
       "6                     [antic, delight, record, break, barca]\n",
       "7              [aussi, qualifi, stosur, wast, memphi, match]\n",
       "8                      [aust, address, secur, council, iraq]\n",
       "9                                   [australia, lock, timet]\n",
       "10                     [australia, contribut, million, iraq]\n",
       "11                 [barca, record, robson, celebr, birthday]\n",
       "12                                   [bathhous, plan, ahead]\n",
       "13                     [hop, launceston, cycl, championship]\n",
       "14                       [plan, boost, paroo, water, suppli]\n",
       "15                       [blizzard, buri, unit, state, bill]\n",
       "16                 [brigadi, dismiss, report, troop, harass]\n",
       "17            [british, combat, troop, arriv, daili, kuwait]\n",
       "18                     [bryant, lead, laker, doubl, overtim]\n",
       "19                        [bushfir, victim, urg, centrelink]\n",
       "20                         [busi, prepar, terrorist, attack]\n",
       "21            [calleri, aveng, final, defeat, elimin, massu]\n",
       "22                             [ethanol, blend, fuel, ahead]\n",
       "23                    [carew, freak, goal, leav, roma, ruin]\n",
       "24                                    [cemeteri, miss, fund]\n",
       "25             [code, conduct, toughen, organ, donat, regul]\n",
       "26           [commonwealth, bank, cut, fix, home, loan, rat]\n",
       "27                   [communiti, urg, help, homeless, youth]\n",
       "28              [council, chief, execut, fail, secur, posit]\n",
       "29               [councillor, contest, wollongong, independ]\n",
       "                                 ...                        \n",
       "1103635          [nepal, ban, solo, climber, mount, everest]\n",
       "1103636                            [year, celebr, australia]\n",
       "1103637                     [year, australia, prepar, bring]\n",
       "1103638                                [year, celebr, world]\n",
       "1103639    [year, text, data, load, surg, clock, strike, ...\n",
       "1103640         [north, korea, leader, jong, watch, concert]\n",
       "1103641            [real, tourist, converg, sydney, harbour]\n",
       "1103642    [guid, sydney, best, venu, public, transport, ...\n",
       "1103643              [polic, confirm, death, peopl, seaplan]\n",
       "1103644    [polic, offic, brett, fort, kill, shoot, incid...\n",
       "1103645                 [plate, driver, catch, speed, limit]\n",
       "1103646                [protest, throw, rock, polic, tehran]\n",
       "1103647                     [rememb, australian, live, lose]\n",
       "1103648         [remount, horsemanship, help, veteran, ptsd]\n",
       "1103649    [roger, feder, rival, battl, injuri, ahead, au...\n",
       "1103650    [russian, tanker, fuel, north, korea, transfer...\n",
       "1103651    [transport, depart, defend, major, intersect, ...\n",
       "1103652                    [plane, crash, hawkesburi, river]\n",
       "1103653         [search, survivor, hawkesburi, plane, crash]\n",
       "1103654    [second, sexual, assault, report, fall, festiv...\n",
       "1103655    [sever, storm, forecast, south, east, queensland]\n",
       "1103656         [snake, catcher, plead, peopl, kill, reptil]\n",
       "1103657      [south, australia, prepar, parti, welcom, year]\n",
       "1103658                       [striker, cool, heat, adelaid]\n",
       "1103659                  [stun, imag, sydney, hobart, yacht]\n",
       "1103660    [ash, smith, warner, near, miss, liven, box, t...\n",
       "1103661                  [timelaps, brisban, year, firework]\n",
       "1103662                               [mean, kid, australia]\n",
       "1103663                     [papodopoulo, meet, mean, ausus]\n",
       "1103664           [georg, papadopoulo, trump, campaign, aid]\n",
       "Name: headline_text, Length: 1103665, dtype: object"
      ]
     },
     "execution_count": 17,
     "metadata": {},
     "output_type": "execute_result"
    }
   ],
   "source": [
    "'''\n",
    "Preview 'processed_docs'\n",
    "'''\n",
    "processed_docs"
   ]
  },
  {
   "cell_type": "markdown",
   "metadata": {},
   "source": [
    "## Step 3.1: Bag of words on the dataset ##"
   ]
  },
  {
   "cell_type": "code",
   "execution_count": 18,
   "metadata": {},
   "outputs": [],
   "source": [
    "'''\n",
    "Create a dictionary from 'processed_docs' containing the number of times a word appears in the training set using gensim.corpora.Dictionary\n",
    "and call it 'dictionary'\n",
    "'''\n",
    "dictionary = gensim.corpora.Dictionary(processed_docs)"
   ]
  },
  {
   "cell_type": "code",
   "execution_count": 19,
   "metadata": {},
   "outputs": [
    {
     "name": "stdout",
     "output_type": "stream",
     "text": [
      "0 broadcast\n",
      "1 communiti\n",
      "2 decid\n",
      "3 licenc\n",
      "4 awar\n",
      "5 defam\n",
      "6 wit\n",
      "7 call\n",
      "8 infrastructur\n",
      "9 protect\n",
      "10 summit\n"
     ]
    }
   ],
   "source": [
    "'''\n",
    "Checking dictionary created\n",
    "'''\n",
    "count = 0\n",
    "for k, v in dictionary.iteritems():\n",
    "    print(k, v)\n",
    "    count += 1\n",
    "    if count > 10:\n",
    "        break"
   ]
  },
  {
   "cell_type": "markdown",
   "metadata": {},
   "source": [
    "** Gensim filter_extremes **\n",
    "\n",
    "`filter_extremes(no_below=5, no_above=0.5, keep_n=100000)`\n",
    "\n",
    "Filter out tokens that appear in\n",
    "\n",
    "* less than no_below documents (absolute number) or\n",
    "* more than no_above documents (fraction of total corpus size, not absolute number).\n",
    "* after (1) and (2), keep only the first keep_n most frequent tokens (or keep all if None)."
   ]
  },
  {
   "cell_type": "code",
   "execution_count": 20,
   "metadata": {},
   "outputs": [],
   "source": [
    "'''\n",
    "OPTIONAL STEP\n",
    "Remove very rare and very common words:\n",
    "\n",
    "- words appearing less than 15 times\n",
    "- words appearing in more than 10% of all documents\n",
    "'''\n",
    "dictionary.filter_extremes(no_below=15, no_above=0.1)"
   ]
  },
  {
   "cell_type": "markdown",
   "metadata": {},
   "source": [
    "** Gensim doc2bow **\n",
    "\n",
    "`doc2bow(document)`\n",
    "\n",
    "* Convert document (a list of words) into the bag-of-words format = list of (token_id, token_count) 2-tuples. Each word is assumed to be a tokenized and normalized string (either unicode or utf8-encoded). No further preprocessing is done on the words in document; apply tokenization, stemming etc. before calling this method."
   ]
  },
  {
   "cell_type": "code",
   "execution_count": 21,
   "metadata": {},
   "outputs": [],
   "source": [
    "'''\n",
    "Create the Bag-of-words model for each document i.e for each document we create a dictionary reporting how many\n",
    "words and how many times those words appear. Save this to 'bow_corpus'\n",
    "'''\n",
    "bow_corpus = [dictionary.doc2bow(doc)  for doc in processed_docs ]"
   ]
  },
  {
   "cell_type": "code",
   "execution_count": 22,
   "metadata": {},
   "outputs": [
    {
     "data": {
      "text/plain": [
       "[(76, 1), (112, 1), (483, 1), (4014, 1)]"
      ]
     },
     "execution_count": 22,
     "metadata": {},
     "output_type": "execute_result"
    }
   ],
   "source": [
    "'''\n",
    "Checking Bag of Words corpus for our sample document --> (token_id, token_count)\n",
    "'''\n",
    "# document_num = 4310\n",
    "bow_corpus[document_num]"
   ]
  },
  {
   "cell_type": "code",
   "execution_count": 23,
   "metadata": {},
   "outputs": [
    {
     "name": "stdout",
     "output_type": "stream",
     "text": [
      "Word 76 (\"bushfir\") appears 1 time.\n",
      "Word 112 (\"help\") appears 1 time.\n",
      "Word 483 (\"rain\") appears 1 time.\n",
      "Word 4014 (\"dampen\") appears 1 time.\n"
     ]
    }
   ],
   "source": [
    "'''\n",
    "Preview BOW for our sample preprocessed document\n",
    "'''\n",
    "# Here document_num is document number 4310 which we have checked in Step 2\n",
    "bow_doc_4310 = bow_corpus[document_num]\n",
    "\n",
    "for i in range(len(bow_doc_4310)):\n",
    "    print(\"Word {} (\\\"{}\\\") appears {} time.\".format(bow_doc_4310[i][0], \n",
    "                                                     dictionary[bow_doc_4310[i][0]], \n",
    "                                                     bow_doc_4310[i][1]))"
   ]
  },
  {
   "cell_type": "markdown",
   "metadata": {},
   "source": [
    "## Step 3.2: TF-IDF on our document set ##\n",
    "\n",
    "While performing TF-IDF on the corpus is not necessary for LDA implemention using the gensim model, it is recemmended. TF-IDF expects a bag-of-words (integer values) training corpus during initialization. During transformation, it will take a vector and return another vector of the same dimensionality.\n",
    "\n",
    "*Please note: The author of Gensim dictates the standard procedure for LDA to be using the Bag of Words model.*"
   ]
  },
  {
   "cell_type": "markdown",
   "metadata": {},
   "source": [
    "** TF-IDF stands for \"Term Frequency, Inverse Document Frequency\".**\n",
    "\n",
    "* It is a way to score the importance of words (or \"terms\") in a document based on how frequently they appear across multiple documents.\n",
    "* If a word appears frequently in a document, it's important. Give the word a high score. But if a word appears in many documents, it's not a unique identifier. Give the word a low score.\n",
    "* Therefore, common words like \"the\" and \"for\", which appear in many documents, will be scaled down. Words that appear frequently in a single document will be scaled up.\n",
    "\n",
    "In other words:\n",
    "\n",
    "* TF(w) = `(Number of times term w appears in a document) / (Total number of terms in the document)`.\n",
    "* IDF(w) = `log_e(Total number of documents / Number of documents with term w in it)`.\n",
    "\n",
    "** For example **\n",
    "\n",
    "* Consider a document containing `100` words wherein the word 'tiger' appears 3 times. \n",
    "* The term frequency (i.e., tf) for 'tiger' is then: \n",
    "    - `TF = (3 / 100) = 0.03`. \n",
    "\n",
    "* Now, assume we have `10 million` documents and the word 'tiger' appears in `1000` of these. Then, the inverse document frequency (i.e., idf) is calculated as:\n",
    "    - `IDF = log(10,000,000 / 1,000) = 4`. \n",
    "\n",
    "* Thus, the Tf-idf weight is the product of these quantities: \n",
    "    - `TF-IDF = 0.03 * 4 = 0.12`."
   ]
  },
  {
   "cell_type": "code",
   "execution_count": 27,
   "metadata": {},
   "outputs": [],
   "source": [
    "'''\n",
    "Create tf-idf model object using models.TfidfModel on 'bow_corpus' and save it to 'tfidf'\n",
    "'''\n",
    "from gensim import corpora, models\n",
    "tfidf = models.TfidfModel(bow_corpus)"
   ]
  },
  {
   "cell_type": "code",
   "execution_count": 28,
   "metadata": {},
   "outputs": [],
   "source": [
    "'''\n",
    "Apply transformation to the entire corpus and call it 'corpus_tfidf'\n",
    "'''\n",
    "corpus_tfidf =tfidf[bow_corpus]"
   ]
  },
  {
   "cell_type": "code",
   "execution_count": 29,
   "metadata": {},
   "outputs": [
    {
     "name": "stdout",
     "output_type": "stream",
     "text": [
      "[(0, 0.58929086447099832),\n",
      " (1, 0.38929657403503015),\n",
      " (2, 0.4964985198530063),\n",
      " (3, 0.50465203286956617)]\n"
     ]
    }
   ],
   "source": [
    "'''\n",
    "Preview TF-IDF scores for our first document --> --> (token_id, tfidf score)\n",
    "'''\n",
    "from pprint import pprint\n",
    "for doc in corpus_tfidf:\n",
    "    pprint(doc)\n",
    "    break"
   ]
  },
  {
   "cell_type": "markdown",
   "metadata": {},
   "source": [
    "## Step 4.1: Running LDA using Bag of Words ##\n",
    "\n",
    "We are going for 10 topics in the document corpus.\n",
    "\n",
    "** We will be running LDA using all CPU cores to parallelize and speed up model training.**\n",
    "\n",
    "Some of the parameters we will be tweaking are:\n",
    "\n",
    "* **num_topics** is the number of requested latent topics to be extracted from the training corpus.\n",
    "* **id2word** is a mapping from word ids (integers) to words (strings). It is used to determine the vocabulary size, as well as for debugging and topic printing.\n",
    "* **workers** is the number of extra processes to use for parallelization. Uses all available cores by default.\n",
    "* **alpha** and **eta** are hyperparameters that affect sparsity of the document-topic (theta) and topic-word (lambda) distributions. We will let these be the default values for now(default value is `1/num_topics`)\n",
    "    - Alpha is the per document topic distribution.\n",
    "        * High alpha: Every document has a mixture of all topics(documents appear similar to each other).\n",
    "        * Low alpha: Every document has a mixture of very few topics\n",
    "\n",
    "    - Eta is the per topic word distribution.\n",
    "        * High eta: Each topic has a mixture of most words(topics appear similar to each other).\n",
    "        * Low eta: Each topic has a mixture of few words.\n",
    "\n",
    "* ** passes ** is the number of training passes through the corpus. For  example, if the training corpus has 50,000 documents, chunksize is  10,000, passes is 2, then online training is done in 10 updates: \n",
    "    * `#1 documents 0-9,999 `\n",
    "    * `#2 documents 10,000-19,999 `\n",
    "    * `#3 documents 20,000-29,999 `\n",
    "    * `#4 documents 30,000-39,999 `\n",
    "    * `#5 documents 40,000-49,999 `\n",
    "    * `#6 documents 0-9,999 `\n",
    "    * `#7 documents 10,000-19,999 `\n",
    "    * `#8 documents 20,000-29,999 `\n",
    "    * `#9 documents 30,000-39,999 `\n",
    "    * `#10 documents 40,000-49,999` "
   ]
  },
  {
   "cell_type": "code",
   "execution_count": 33,
   "metadata": {},
   "outputs": [],
   "source": [
    "# LDA mono-core\n",
    "# lda_model = gensim.models.LdaModel(bow_corpus, \n",
    "#                                    num_topics = 10, \n",
    "#                                    id2word = dictionary,                                    \n",
    "#                                    passes = 50)\n",
    "\n",
    "# LDA multicore \n",
    "'''\n",
    "Train your lda model using gensim.models.LdaMulticore and save it to 'lda_model'\n",
    "'''\n",
    "lda_model = gensim.models.LdaMulticore(bow_corpus, num_topics = 10, id2word = dictionary, passes = 1)"
   ]
  },
  {
   "cell_type": "code",
   "execution_count": 34,
   "metadata": {},
   "outputs": [
    {
     "name": "stdout",
     "output_type": "stream",
     "text": [
      "Topic: 0 Word: 0.024*\"perth\" + 0.021*\"brisban\" + 0.014*\"show\" + 0.014*\"polit\" + 0.013*\"feder\" + 0.011*\"record\" + 0.009*\"weather\" + 0.008*\"time\" + 0.008*\"year\" + 0.007*\"farmer\"\n",
      "\n",
      "\n",
      "Topic: 1 Word: 0.025*\"north\" + 0.022*\"canberra\" + 0.020*\"coast\" + 0.016*\"say\" + 0.015*\"labor\" + 0.014*\"china\" + 0.013*\"korea\" + 0.012*\"gold\" + 0.012*\"senat\" + 0.011*\"vote\"\n",
      "\n",
      "\n",
      "Topic: 2 Word: 0.057*\"australia\" + 0.025*\"world\" + 0.018*\"open\" + 0.016*\"final\" + 0.013*\"win\" + 0.012*\"leagu\" + 0.012*\"share\" + 0.012*\"take\" + 0.009*\"lead\" + 0.009*\"young\"\n",
      "\n",
      "\n",
      "Topic: 3 Word: 0.050*\"polic\" + 0.024*\"death\" + 0.019*\"charg\" + 0.016*\"live\" + 0.016*\"shoot\" + 0.014*\"murder\" + 0.014*\"woman\" + 0.012*\"fight\" + 0.012*\"investig\" + 0.011*\"child\"\n",
      "\n",
      "\n",
      "Topic: 4 Word: 0.025*\"govern\" + 0.017*\"donald\" + 0.017*\"plan\" + 0.016*\"chang\" + 0.012*\"health\" + 0.012*\"indigen\" + 0.011*\"council\" + 0.011*\"work\" + 0.011*\"fund\" + 0.010*\"say\"\n",
      "\n",
      "\n",
      "Topic: 5 Word: 0.025*\"melbourn\" + 0.024*\"nation\" + 0.014*\"west\" + 0.013*\"state\" + 0.013*\"bank\" + 0.013*\"street\" + 0.012*\"forc\" + 0.012*\"guilti\" + 0.011*\"game\" + 0.011*\"parti\"\n",
      "\n",
      "\n",
      "Topic: 6 Word: 0.028*\"queensland\" + 0.019*\"crash\" + 0.018*\"die\" + 0.015*\"miss\" + 0.014*\"peopl\" + 0.012*\"island\" + 0.012*\"victoria\" + 0.012*\"marriag\" + 0.011*\"countri\" + 0.011*\"dead\"\n",
      "\n",
      "\n",
      "Topic: 7 Word: 0.031*\"court\" + 0.021*\"year\" + 0.019*\"face\" + 0.019*\"alleg\" + 0.017*\"turnbul\" + 0.016*\"jail\" + 0.016*\"power\" + 0.016*\"accus\" + 0.015*\"tasmania\" + 0.015*\"high\"\n",
      "\n",
      "\n",
      "Topic: 8 Word: 0.055*\"australian\" + 0.023*\"test\" + 0.015*\"break\" + 0.014*\"week\" + 0.011*\"public\" + 0.010*\"hour\" + 0.009*\"water\" + 0.009*\"say\" + 0.009*\"debat\" + 0.008*\"russia\"\n",
      "\n",
      "\n",
      "Topic: 9 Word: 0.052*\"trump\" + 0.032*\"elect\" + 0.023*\"school\" + 0.021*\"women\" + 0.019*\"attack\" + 0.017*\"tasmanian\" + 0.016*\"kill\" + 0.015*\"arrest\" + 0.014*\"children\" + 0.011*\"near\"\n",
      "\n",
      "\n"
     ]
    }
   ],
   "source": [
    "'''\n",
    "For each topic, we will explore the words occuring in that topic and its relative weight\n",
    "'''\n",
    "for idx, topic in lda_model.print_topics(-1):\n",
    "    print(\"Topic: {} Word: {}\".format(idx, topic))\n",
    "    print(\"\\n\")"
   ]
  },
  {
   "cell_type": "markdown",
   "metadata": {},
   "source": [
    "### Classification of the topics ###\n",
    "\n",
    "Using the words in each topic and their corresponding weights, what categories were you able to infer?\n",
    "\n",
    "* 0: \n",
    "* 1: \n",
    "* 2: \n",
    "* 3: \n",
    "* 4: \n",
    "* 5: \n",
    "* 6: \n",
    "* 7:  \n",
    "* 8: \n",
    "* 9: "
   ]
  },
  {
   "cell_type": "markdown",
   "metadata": {},
   "source": [
    "## Step 4.2 Running LDA using TF-IDF ##"
   ]
  },
  {
   "cell_type": "code",
   "execution_count": 37,
   "metadata": {},
   "outputs": [],
   "source": [
    "'''\n",
    "Define lda model using tfidf corpus\n",
    "'''\n",
    "lda_model_tfidf = gensim.models.LdaMulticore(corpus_tfidf, num_topics = 10, id2word = dictionary, passes = 1, workers=4)"
   ]
  },
  {
   "cell_type": "code",
   "execution_count": 38,
   "metadata": {},
   "outputs": [
    {
     "name": "stdout",
     "output_type": "stream",
     "text": [
      "Topic: 0 Word: 0.011*\"turnbul\" + 0.009*\"grandstand\" + 0.007*\"peter\" + 0.007*\"interview\" + 0.007*\"malcolm\" + 0.006*\"august\" + 0.005*\"islam\" + 0.005*\"australia\" + 0.005*\"cricket\" + 0.005*\"australian\"\n",
      "\n",
      "\n",
      "Topic: 1 Word: 0.010*\"drum\" + 0.009*\"rural\" + 0.008*\"crash\" + 0.007*\"stab\" + 0.007*\"polic\" + 0.007*\"die\" + 0.006*\"fatal\" + 0.006*\"septemb\" + 0.006*\"novemb\" + 0.006*\"woman\"\n",
      "\n",
      "\n",
      "Topic: 2 Word: 0.010*\"polic\" + 0.008*\"interview\" + 0.008*\"driver\" + 0.006*\"miss\" + 0.006*\"crash\" + 0.006*\"queensland\" + 0.006*\"search\" + 0.006*\"climat\" + 0.005*\"charg\" + 0.005*\"juli\"\n",
      "\n",
      "\n",
      "Topic: 3 Word: 0.017*\"countri\" + 0.016*\"hour\" + 0.009*\"govern\" + 0.009*\"podcast\" + 0.008*\"health\" + 0.005*\"fund\" + 0.005*\"octob\" + 0.005*\"indigen\" + 0.005*\"monday\" + 0.005*\"mental\"\n",
      "\n",
      "\n",
      "Topic: 4 Word: 0.010*\"live\" + 0.007*\"leagu\" + 0.007*\"marriag\" + 0.007*\"david\" + 0.006*\"export\" + 0.005*\"andrew\" + 0.005*\"world\" + 0.005*\"australia\" + 0.004*\"year\" + 0.004*\"outback\"\n",
      "\n",
      "\n",
      "Topic: 5 Word: 0.009*\"coast\" + 0.007*\"australia\" + 0.007*\"korea\" + 0.007*\"north\" + 0.006*\"gold\" + 0.006*\"decemb\" + 0.005*\"syria\" + 0.005*\"kill\" + 0.005*\"south\" + 0.004*\"china\"\n",
      "\n",
      "\n",
      "Topic: 6 Word: 0.018*\"trump\" + 0.010*\"market\" + 0.008*\"price\" + 0.008*\"share\" + 0.007*\"weather\" + 0.007*\"christma\" + 0.006*\"farm\" + 0.006*\"rise\" + 0.005*\"farmer\" + 0.005*\"australian\"\n",
      "\n",
      "\n",
      "Topic: 7 Word: 0.012*\"donald\" + 0.009*\"sport\" + 0.008*\"hobart\" + 0.008*\"ash\" + 0.008*\"energi\" + 0.006*\"univers\" + 0.004*\"age\" + 0.004*\"drone\" + 0.004*\"chris\" + 0.004*\"palmer\"\n",
      "\n",
      "\n",
      "Topic: 8 Word: 0.011*\"news\" + 0.010*\"court\" + 0.010*\"murder\" + 0.008*\"royal\" + 0.007*\"abus\" + 0.007*\"commiss\" + 0.006*\"charg\" + 0.006*\"rural\" + 0.005*\"alleg\" + 0.005*\"asylum\"\n",
      "\n",
      "\n",
      "Topic: 9 Word: 0.008*\"guilti\" + 0.007*\"plead\" + 0.007*\"friday\" + 0.007*\"wednesday\" + 0.006*\"south\" + 0.006*\"east\" + 0.006*\"thursday\" + 0.006*\"street\" + 0.006*\"final\" + 0.005*\"grand\"\n",
      "\n",
      "\n"
     ]
    }
   ],
   "source": [
    "'''\n",
    "For each topic, we will explore the words occuring in that topic and its relative weight\n",
    "'''\n",
    "for idx, topic in lda_model_tfidf.print_topics(-1):\n",
    "    print(\"Topic: {} Word: {}\".format(idx, topic))\n",
    "    print(\"\\n\")"
   ]
  },
  {
   "cell_type": "markdown",
   "metadata": {},
   "source": [
    "### Classification of the topics ###\n",
    "\n",
    "As we can see, when using tf-idf, heavier weights are given to words that are not as frequent which results in nouns being factored in. That makes it harder to figure out the categories as nouns can be hard to categorize. This goes to show that the models we apply depend on the type of corpus of text we are dealing with. \n",
    "\n",
    "Using the words in each topic and their corresponding weights, what categories could you find?\n",
    "\n",
    "* 0: \n",
    "* 1:  \n",
    "* 2: \n",
    "* 3: \n",
    "* 4:  \n",
    "* 5: \n",
    "* 6: \n",
    "* 7: \n",
    "* 8: \n",
    "* 9: "
   ]
  },
  {
   "cell_type": "markdown",
   "metadata": {},
   "source": [
    "## Step 5.1: Performance evaluation by classifying sample document using LDA Bag of Words model##\n",
    "\n",
    "We will check to see where our test document would be classified. "
   ]
  },
  {
   "cell_type": "code",
   "execution_count": 40,
   "metadata": {},
   "outputs": [
    {
     "name": "stdout",
     "output_type": "stream",
     "text": [
      "rain helps dampen bushfires\n"
     ]
    }
   ],
   "source": [
    "'''\n",
    "Text of sample document 4310\n",
    "'''\n",
    "print(training_headlines[4310])"
   ]
  },
  {
   "cell_type": "code",
   "execution_count": 43,
   "metadata": {},
   "outputs": [
    {
     "name": "stdout",
     "output_type": "stream",
     "text": [
      "\n",
      "Score: 0.3404908776283264\t \n",
      "Topic: 0.025*\"govern\" + 0.017*\"donald\" + 0.017*\"plan\" + 0.016*\"chang\" + 0.012*\"health\" + 0.012*\"indigen\" + 0.011*\"council\" + 0.011*\"work\" + 0.011*\"fund\" + 0.010*\"say\"\n",
      "\n",
      "Score: 0.26112931966781616\t \n",
      "Topic: 0.028*\"queensland\" + 0.019*\"crash\" + 0.018*\"die\" + 0.015*\"miss\" + 0.014*\"peopl\" + 0.012*\"island\" + 0.012*\"victoria\" + 0.012*\"marriag\" + 0.011*\"countri\" + 0.011*\"dead\"\n",
      "\n",
      "Score: 0.25837472081184387\t \n",
      "Topic: 0.024*\"perth\" + 0.021*\"brisban\" + 0.014*\"show\" + 0.014*\"polit\" + 0.013*\"feder\" + 0.011*\"record\" + 0.009*\"weather\" + 0.008*\"time\" + 0.008*\"year\" + 0.007*\"farmer\"\n",
      "\n",
      "Score: 0.02000216580927372\t \n",
      "Topic: 0.050*\"polic\" + 0.024*\"death\" + 0.019*\"charg\" + 0.016*\"live\" + 0.016*\"shoot\" + 0.014*\"murder\" + 0.014*\"woman\" + 0.012*\"fight\" + 0.012*\"investig\" + 0.011*\"child\"\n",
      "\n",
      "Score: 0.020001757889986038\t \n",
      "Topic: 0.025*\"north\" + 0.022*\"canberra\" + 0.020*\"coast\" + 0.016*\"say\" + 0.015*\"labor\" + 0.014*\"china\" + 0.013*\"korea\" + 0.012*\"gold\" + 0.012*\"senat\" + 0.011*\"vote\"\n",
      "\n",
      "Score: 0.020001187920570374\t \n",
      "Topic: 0.055*\"australian\" + 0.023*\"test\" + 0.015*\"break\" + 0.014*\"week\" + 0.011*\"public\" + 0.010*\"hour\" + 0.009*\"water\" + 0.009*\"say\" + 0.009*\"debat\" + 0.008*\"russia\"\n",
      "\n",
      "Score: 0.019999999552965164\t \n",
      "Topic: 0.057*\"australia\" + 0.025*\"world\" + 0.018*\"open\" + 0.016*\"final\" + 0.013*\"win\" + 0.012*\"leagu\" + 0.012*\"share\" + 0.012*\"take\" + 0.009*\"lead\" + 0.009*\"young\"\n",
      "\n",
      "Score: 0.019999999552965164\t \n",
      "Topic: 0.025*\"melbourn\" + 0.024*\"nation\" + 0.014*\"west\" + 0.013*\"state\" + 0.013*\"bank\" + 0.013*\"street\" + 0.012*\"forc\" + 0.012*\"guilti\" + 0.011*\"game\" + 0.011*\"parti\"\n",
      "\n",
      "Score: 0.019999999552965164\t \n",
      "Topic: 0.031*\"court\" + 0.021*\"year\" + 0.019*\"face\" + 0.019*\"alleg\" + 0.017*\"turnbul\" + 0.016*\"jail\" + 0.016*\"power\" + 0.016*\"accus\" + 0.015*\"tasmania\" + 0.015*\"high\"\n",
      "\n",
      "Score: 0.019999999552965164\t \n",
      "Topic: 0.052*\"trump\" + 0.032*\"elect\" + 0.023*\"school\" + 0.021*\"women\" + 0.019*\"attack\" + 0.017*\"tasmanian\" + 0.016*\"kill\" + 0.015*\"arrest\" + 0.014*\"children\" + 0.011*\"near\"\n"
     ]
    }
   ],
   "source": [
    "'''\n",
    "Check which topic our test document belongs to using the LDA Bag of Words model.\n",
    "'''\n",
    "document_num = 4310\n",
    "# Our test document is document number 4310\n",
    "\n",
    "# TODO\n",
    "for index, score in sorted(lda_model[bow_corpus[document_num]], key=lambda tup: -1*tup[1]):\n",
    "    print(\"\\nScore: {}\\t \\nTopic: {}\".format(score, lda_model.print_topic(index, 10)))"
   ]
  },
  {
   "cell_type": "markdown",
   "metadata": {},
   "source": [
    "### It has the highest probability (`x`) to be  part of the topic that we assigned as X, which is the accurate classification. ###"
   ]
  },
  {
   "cell_type": "markdown",
   "metadata": {},
   "source": [
    "## Step 5.2: Performance evaluation by classifying sample document using LDA TF-IDF model##"
   ]
  },
  {
   "cell_type": "code",
   "execution_count": 42,
   "metadata": {},
   "outputs": [
    {
     "name": "stdout",
     "output_type": "stream",
     "text": [
      "\n",
      "Score: 0.5740954279899597\t \n",
      "Topic: 0.057*\"australia\" + 0.025*\"world\" + 0.018*\"open\" + 0.016*\"final\" + 0.013*\"win\" + 0.012*\"leagu\" + 0.012*\"share\" + 0.012*\"take\" + 0.009*\"lead\" + 0.009*\"young\"\n",
      "\n",
      "Score: 0.2658849358558655\t \n",
      "Topic: 0.025*\"melbourn\" + 0.024*\"nation\" + 0.014*\"west\" + 0.013*\"state\" + 0.013*\"bank\" + 0.013*\"street\" + 0.012*\"forc\" + 0.012*\"guilti\" + 0.011*\"game\" + 0.011*\"parti\"\n",
      "\n",
      "Score: 0.020006675273180008\t \n",
      "Topic: 0.028*\"queensland\" + 0.019*\"crash\" + 0.018*\"die\" + 0.015*\"miss\" + 0.014*\"peopl\" + 0.012*\"island\" + 0.012*\"victoria\" + 0.012*\"marriag\" + 0.011*\"countri\" + 0.011*\"dead\"\n",
      "\n",
      "Score: 0.020002977922558784\t \n",
      "Topic: 0.052*\"trump\" + 0.032*\"elect\" + 0.023*\"school\" + 0.021*\"women\" + 0.019*\"attack\" + 0.017*\"tasmanian\" + 0.016*\"kill\" + 0.015*\"arrest\" + 0.014*\"children\" + 0.011*\"near\"\n",
      "\n",
      "Score: 0.020002558827400208\t \n",
      "Topic: 0.025*\"north\" + 0.022*\"canberra\" + 0.020*\"coast\" + 0.016*\"say\" + 0.015*\"labor\" + 0.014*\"china\" + 0.013*\"korea\" + 0.012*\"gold\" + 0.012*\"senat\" + 0.011*\"vote\"\n",
      "\n",
      "Score: 0.020002257078886032\t \n",
      "Topic: 0.050*\"polic\" + 0.024*\"death\" + 0.019*\"charg\" + 0.016*\"live\" + 0.016*\"shoot\" + 0.014*\"murder\" + 0.014*\"woman\" + 0.012*\"fight\" + 0.012*\"investig\" + 0.011*\"child\"\n",
      "\n",
      "Score: 0.020001688972115517\t \n",
      "Topic: 0.031*\"court\" + 0.021*\"year\" + 0.019*\"face\" + 0.019*\"alleg\" + 0.017*\"turnbul\" + 0.016*\"jail\" + 0.016*\"power\" + 0.016*\"accus\" + 0.015*\"tasmania\" + 0.015*\"high\"\n",
      "\n",
      "Score: 0.020001372322440147\t \n",
      "Topic: 0.025*\"govern\" + 0.017*\"donald\" + 0.017*\"plan\" + 0.016*\"chang\" + 0.012*\"health\" + 0.012*\"indigen\" + 0.011*\"council\" + 0.011*\"work\" + 0.011*\"fund\" + 0.010*\"say\"\n",
      "\n",
      "Score: 0.020001158118247986\t \n",
      "Topic: 0.055*\"australian\" + 0.023*\"test\" + 0.015*\"break\" + 0.014*\"week\" + 0.011*\"public\" + 0.010*\"hour\" + 0.009*\"water\" + 0.009*\"say\" + 0.009*\"debat\" + 0.008*\"russia\"\n",
      "\n",
      "Score: 0.020000938326120377\t \n",
      "Topic: 0.024*\"perth\" + 0.021*\"brisban\" + 0.014*\"show\" + 0.014*\"polit\" + 0.013*\"feder\" + 0.011*\"record\" + 0.009*\"weather\" + 0.008*\"time\" + 0.008*\"year\" + 0.007*\"farmer\"\n"
     ]
    }
   ],
   "source": [
    "'''\n",
    "Check which topic our test document belongs to using the LDA TF-IDF model.\n",
    "'''\n",
    "document_num = 4310\n",
    "# Our test document is document number 4310\n",
    "# TODO\n",
    "for index, score in sorted(lda_model_tfidf[bow_corpus[document_num]], key=lambda tup: -1*tup[1]):\n",
    "    print(\"\\nScore: {}\\t \\nTopic: {}\".format(score, lda_model.print_topic(index, 10)))"
   ]
  },
  {
   "cell_type": "markdown",
   "metadata": {},
   "source": [
    "### It has the highest probability (`x%`) to be  part of the topic that we assigned as X. ###"
   ]
  },
  {
   "cell_type": "markdown",
   "metadata": {},
   "source": [
    "## Step 6: Testing model on unseen document ##"
   ]
  },
  {
   "cell_type": "code",
   "execution_count": 45,
   "metadata": {},
   "outputs": [
    {
     "name": "stdout",
     "output_type": "stream",
     "text": [
      "\n",
      "Score: 0.2750001847743988\t \n",
      "Topic: 0.025*\"melbourn\" + 0.024*\"nation\" + 0.014*\"west\" + 0.013*\"state\" + 0.013*\"bank\" + 0.013*\"street\" + 0.012*\"forc\" + 0.012*\"guilti\" + 0.011*\"game\" + 0.011*\"parti\"\n",
      "\n",
      "Score: 0.2750001847743988\t \n",
      "Topic: 0.028*\"queensland\" + 0.019*\"crash\" + 0.018*\"die\" + 0.015*\"miss\" + 0.014*\"peopl\" + 0.012*\"island\" + 0.012*\"victoria\" + 0.012*\"marriag\" + 0.011*\"countri\" + 0.011*\"dead\"\n",
      "\n",
      "Score: 0.27499961853027344\t \n",
      "Topic: 0.055*\"australian\" + 0.023*\"test\" + 0.015*\"break\" + 0.014*\"week\" + 0.011*\"public\" + 0.010*\"hour\" + 0.009*\"water\" + 0.009*\"say\" + 0.009*\"debat\" + 0.008*\"russia\"\n",
      "\n",
      "Score: 0.02499999664723873\t \n",
      "Topic: 0.024*\"perth\" + 0.021*\"brisban\" + 0.014*\"show\" + 0.014*\"polit\" + 0.013*\"feder\" + 0.011*\"record\" + 0.009*\"weather\" + 0.008*\"time\" + 0.008*\"year\" + 0.007*\"farmer\"\n",
      "\n",
      "Score: 0.02499999664723873\t \n",
      "Topic: 0.025*\"north\" + 0.022*\"canberra\" + 0.020*\"coast\" + 0.016*\"say\" + 0.015*\"labor\" + 0.014*\"china\" + 0.013*\"korea\" + 0.012*\"gold\" + 0.012*\"senat\" + 0.011*\"vote\"\n",
      "\n",
      "Score: 0.02499999664723873\t \n",
      "Topic: 0.057*\"australia\" + 0.025*\"world\" + 0.018*\"open\" + 0.016*\"final\" + 0.013*\"win\" + 0.012*\"leagu\" + 0.012*\"share\" + 0.012*\"take\" + 0.009*\"lead\" + 0.009*\"young\"\n",
      "\n",
      "Score: 0.02499999664723873\t \n",
      "Topic: 0.050*\"polic\" + 0.024*\"death\" + 0.019*\"charg\" + 0.016*\"live\" + 0.016*\"shoot\" + 0.014*\"murder\" + 0.014*\"woman\" + 0.012*\"fight\" + 0.012*\"investig\" + 0.011*\"child\"\n",
      "\n",
      "Score: 0.02499999664723873\t \n",
      "Topic: 0.025*\"govern\" + 0.017*\"donald\" + 0.017*\"plan\" + 0.016*\"chang\" + 0.012*\"health\" + 0.012*\"indigen\" + 0.011*\"council\" + 0.011*\"work\" + 0.011*\"fund\" + 0.010*\"say\"\n",
      "\n",
      "Score: 0.02499999664723873\t \n",
      "Topic: 0.031*\"court\" + 0.021*\"year\" + 0.019*\"face\" + 0.019*\"alleg\" + 0.017*\"turnbul\" + 0.016*\"jail\" + 0.016*\"power\" + 0.016*\"accus\" + 0.015*\"tasmania\" + 0.015*\"high\"\n",
      "\n",
      "Score: 0.02499999664723873\t \n",
      "Topic: 0.052*\"trump\" + 0.032*\"elect\" + 0.023*\"school\" + 0.021*\"women\" + 0.019*\"attack\" + 0.017*\"tasmanian\" + 0.016*\"kill\" + 0.015*\"arrest\" + 0.014*\"children\" + 0.011*\"near\"\n"
     ]
    }
   ],
   "source": [
    "unseen_document = \"cricket is awesome sport\"\n",
    "\n",
    "# Data preprocessing step for the unseen document\n",
    "bow_vector = dictionary.doc2bow(preprocess(unseen_document))\n",
    "\n",
    "# TODO\n",
    "for index, score in sorted(lda_model[bow_vector], key=lambda tup: -1*tup[1]):\n",
    "    print(\"\\nScore: {}\\t \\nTopic: {}\".format(score, lda_model.print_topic(index, 10)))"
   ]
  },
  {
   "cell_type": "markdown",
   "metadata": {},
   "source": [
    "The model correctly classifies the unseen document with 'x'% probability to the X category."
   ]
  },
  {
   "cell_type": "code",
   "execution_count": null,
   "metadata": {},
   "outputs": [],
   "source": []
  }
 ],
 "metadata": {
  "kernelspec": {
   "display_name": "Python 3",
   "language": "python",
   "name": "python3"
  },
  "language_info": {
   "codemirror_mode": {
    "name": "ipython",
    "version": 3
   },
   "file_extension": ".py",
   "mimetype": "text/x-python",
   "name": "python",
   "nbconvert_exporter": "python",
   "pygments_lexer": "ipython3",
   "version": "3.6.3"
  }
 },
 "nbformat": 4,
 "nbformat_minor": 1
}
